{
 "cells": [
  {
   "cell_type": "code",
   "execution_count": 1,
   "metadata": {},
   "outputs": [],
   "source": [
    "import numpy as np\n",
    "from sympy import *\n",
    "import matplotlib.pyplot as plt"
   ]
  },
  {
   "cell_type": "code",
   "execution_count": null,
   "metadata": {},
   "outputs": [],
   "source": [
    "func = input(\"Enter the NonLinear Equation \")\n",
    "\n",
    "x_0 = float(input(\"Initial Value \"))\n",
    "#error function////////\n",
    "y = len(error)\n",
    "index = -1\n",
    "err = 0\n",
    "for i in range(y):\n",
    "  j = error[i]\n",
    "  if(j=='.'):\n",
    "    index=i\n",
    "for i in range(y):\n",
    "  j = error[i]\n",
    "  if(j!='.'):\n",
    "    if(j!='%'):\n",
    "      a = int(j)\n",
    "      if(index==-1):\n",
    "        err = 10*err + a\n",
    "      if(index!=-1):\n",
    "        if(i<index):\n",
    "          temp = a*10**(index-i-1)\n",
    "        else:\n",
    "          temp = a*10**(index-i)\n",
    "        err = err+temp\n",
    "#Method////////\n",
    "x = Symbol('x')\n",
    "a = lambdify(x,func)\n",
    "e_x = 100\n",
    "max = x_0\n",
    "min = x_0\n",
    "difference = np.zeros(20,float)\n",
    "for i in range(itr):\n",
    "  slope = diff(func,x).subs(x,x_0)\n",
    "  slope_eq = str(slope)\n",
    "  slope_val = slope_eq.replace('e','2.713')\n",
    "  val = eval(slope_val)\n",
    "\n",
    "  if(e_x<err):\n",
    "    break\n",
    "  x_next = x_0 - (a(x_0)/val)\n",
    "  e_x = abs(x_next-x_0)/x_next\n",
    "  e_x = e_x*100\n",
    "  difference[i] = e_x\n",
    "  x_0 = x_next\n",
    "  if(x_next>max):\n",
    "    max = x_next\n",
    "  if(x_next<min):\n",
    "    min = x_next\n",
    "y = lambdify(x,func)\n",
    "x = np.linspace(int(min)-1,int(max)+1)\n",
    "y = y(x)\n",
    "plt.plot(x,y)\n",
    "plt.title('f(x) vs x')\n",
    "plt.xlabel('x')\n",
    "plt.ylabel('f(x)')\n",
    "plt.show()\n",
    "iterations = np.arange(20)\n",
    "iterations = iterations[:i+1]\n",
    "difference = difference[:i+1]\n",
    "plt.plot(iterations,difference)\n",
    "plt.title('Relative Approximate Error vs Iteration')\n",
    "plt.xlabel('Iterations')\n",
    "plt.ylabel('Relative Approximate Error (in %)')\n",
    "plt.show()\n",
    "print(\"\\nThe root of equation is \",x_0)"
   ]
  },
  {
   "cell_type": "code",
   "execution_count": null,
   "metadata": {},
   "outputs": [],
   "source": []
  }
 ],
 "metadata": {
  "kernelspec": {
   "display_name": "Python 3 (ipykernel)",
   "language": "python",
   "name": "python3"
  },
  "language_info": {
   "codemirror_mode": {
    "name": "ipython",
    "version": 3
   },
   "file_extension": ".py",
   "mimetype": "text/x-python",
   "name": "python",
   "nbconvert_exporter": "python",
   "pygments_lexer": "ipython3",
   "version": "3.9.12"
  },
  "vscode": {
   "interpreter": {
    "hash": "c18fcf31cbd8590e6731d72e2d3a50085158bb9a96fb92ed1086b5132da3f0f1"
   }
  }
 },
 "nbformat": 4,
 "nbformat_minor": 2
}
